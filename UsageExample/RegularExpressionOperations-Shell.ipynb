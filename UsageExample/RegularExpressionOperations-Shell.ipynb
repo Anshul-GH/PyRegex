{
 "cells": [
  {
   "cell_type": "markdown",
   "metadata": {},
   "source": [
    "<h1>Introduction to Python Regex Module</h1>\n",
    "In this notebook, we explore regex module functions and capabilities<br>\n",
    "https://docs.python.org/3/library/re.html"
   ]
  },
  {
   "cell_type": "code",
   "execution_count": 1,
   "metadata": {},
   "outputs": [],
   "source": [
    "# import python regex module\n",
    "import re"
   ]
  },
  {
   "cell_type": "markdown",
   "metadata": {},
   "source": [
    "<h2>Raw String and Regular String</h2>\n",
    "Always use Raw string for Regex Patterns"
   ]
  },
  {
   "cell_type": "code",
   "execution_count": 2,
   "metadata": {},
   "outputs": [
    {
     "name": "stdout",
     "output_type": "stream",
     "text": [
      "a\tb\n"
     ]
    }
   ],
   "source": [
    "s = \"a\\tb\"\n",
    "print(s)"
   ]
  },
  {
   "cell_type": "code",
   "execution_count": 3,
   "metadata": {},
   "outputs": [
    {
     "name": "stdout",
     "output_type": "stream",
     "text": [
      "a\\tb\n"
     ]
    }
   ],
   "source": [
    "raw_s = r\"a\\tb\"\n",
    "print(raw_s)"
   ]
  },
  {
   "cell_type": "markdown",
   "metadata": {},
   "source": [
    "<h2>re.match - Find first match</h2>\n",
    "Find match at the beginning of a string<br>\n",
    "Useful for validating input from users"
   ]
  },
  {
   "cell_type": "code",
   "execution_count": 18,
   "metadata": {},
   "outputs": [],
   "source": [
    "pattern = r\"\\d+\"\n",
    "# text = r\"42 is my lucky number\"\n",
    "text = r\"my lucky number is 42\"\n",
    "# text = r\"is my lucky number\""
   ]
  },
  {
   "cell_type": "code",
   "execution_count": 19,
   "metadata": {},
   "outputs": [],
   "source": [
    "match = re.match(pattern, text)"
   ]
  },
  {
   "cell_type": "code",
   "execution_count": 20,
   "metadata": {},
   "outputs": [
    {
     "name": "stdout",
     "output_type": "stream",
     "text": [
      "No Match Found\n"
     ]
    }
   ],
   "source": [
    "if match:\n",
    "    print(f\"Match Success: {match.group(0)} at index: {match.start}\")\n",
    "else:\n",
    "    print(f\"No Match Found\")"
   ]
  },
  {
   "cell_type": "markdown",
   "metadata": {},
   "source": [
    "<h3>input validation</h3>"
   ]
  },
  {
   "cell_type": "code",
   "execution_count": 34,
   "metadata": {},
   "outputs": [],
   "source": [
    "def is_integer(text):\n",
    "    pattern = r\"^\\d+$\"\n",
    "\n",
    "    match = re.match(pattern, text)\n",
    "\n",
    "    if match:\n",
    "        return True\n",
    "    else:\n",
    "        return False"
   ]
  },
  {
   "cell_type": "code",
   "execution_count": 35,
   "metadata": {},
   "outputs": [
    {
     "data": {
      "text/plain": [
       "False"
      ]
     },
     "execution_count": 35,
     "metadata": {},
     "output_type": "execute_result"
    }
   ],
   "source": [
    "# is_integer(\"123\")\n",
    "is_integer(\"abcd\")"
   ]
  },
  {
   "cell_type": "code",
   "execution_count": 36,
   "metadata": {},
   "outputs": [],
   "source": [
    "def test_is_integer():\n",
    "    pass_list = [\"123\", \"456\", \"900\", \"0991\"]\n",
    "    fail_list = [\"a123\", \"456b\", \"9 0 0\", \"1\\t2\", \" 0991\", \"45 \"]\n",
    "\n",
    "    for text in pass_list:\n",
    "        if not is_integer(text):\n",
    "            print(\"Failed to detect an integer: \", text)\n",
    "\n",
    "    for text in fail_list:\n",
    "        if is_integer(text):\n",
    "            print(\"Incorrectly classified as integer: \", text)\n",
    "\n",
    "    print(\"Test Completed\")"
   ]
  },
  {
   "cell_type": "code",
   "execution_count": 37,
   "metadata": {},
   "outputs": [
    {
     "name": "stdout",
     "output_type": "stream",
     "text": [
      "Test Completed\n"
     ]
    }
   ],
   "source": [
    "test_is_integer()"
   ]
  },
  {
   "cell_type": "markdown",
   "metadata": {},
   "source": [
    "<h2>re.search - Find the first match anywhere</h2>"
   ]
  },
  {
   "cell_type": "code",
   "execution_count": 5,
   "metadata": {
    "scrolled": true
   },
   "outputs": [
    {
     "name": "stdout",
     "output_type": "stream",
     "text": [
      "Match Success: 42 at index: 20\n"
     ]
    }
   ],
   "source": [
    "import re\n",
    "\n",
    "pattern = r\"\\d+\"\n",
    "# text = r\"42 is my lucky number\"\n",
    "# text = r\"my lucky number is 42\"\n",
    "text = r\"my lucky numbers is 42 and 24 this week\"\n",
    "# text = r\"is my lucky number\"\n",
    "\n",
    "match = re.search(pattern, text)\n",
    "\n",
    "if match:\n",
    "    print(f\"Match Success: {match.group(0)} at index: {match.start()}\")\n",
    "else:\n",
    "    print(f\"No Match Found\")"
   ]
  },
  {
   "cell_type": "markdown",
   "metadata": {},
   "source": [
    "<h4>TODO: Modify is_integer to use search method</h4>"
   ]
  },
  {
   "cell_type": "markdown",
   "metadata": {},
   "source": [
    "<h2>re.findall - Find all the matches</h2>\n",
    "method returns only after scanning the entire text"
   ]
  },
  {
   "cell_type": "code",
   "execution_count": 6,
   "metadata": {},
   "outputs": [
    {
     "name": "stdout",
     "output_type": "stream",
     "text": [
      "Pattern:  \\d+\n",
      "Found:  ['10001', '10002', '10003', '10004']\n"
     ]
    }
   ],
   "source": [
    "pattern = r\"\\d+\"\n",
    "\n",
    "text = \"NY Postal Codes are 10001, 10002, 10003, 10004. This covers all.\"\n",
    "\n",
    "print(\"Pattern: \", pattern)\n",
    "\n",
    "match = re.findall(pattern, text)\n",
    "\n",
    "if match:\n",
    "    print(\"Found: \", match)\n",
    "else:\n",
    "    print(\"No match found.\")"
   ]
  },
  {
   "cell_type": "markdown",
   "metadata": {},
   "source": [
    "<h2>re.finditer - Iterator</h2>\n",
    "method returns an iterator with the first match and you have control to ask for more matches"
   ]
  },
  {
   "cell_type": "code",
   "execution_count": 7,
   "metadata": {},
   "outputs": [
    {
     "name": "stdout",
     "output_type": "stream",
     "text": [
      "Pattern:  \\d+\n",
      "Matches: \n",
      "10001 at index: 20\n",
      "10002 at index: 27\n",
      "10003 at index: 34\n",
      "10004 at index: 41\n"
     ]
    }
   ],
   "source": [
    "pattern = r\"\\d+\"\n",
    "\n",
    "text = \"NY Postal Codes are 10001, 10002, 10003, 10004. This covers all.\"\n",
    "\n",
    "print(\"Pattern: \", pattern)\n",
    "\n",
    "match_iter = re.finditer(pattern, text)\n",
    "\n",
    "print(\"Matches: \")\n",
    "\n",
    "for match in match_iter:\n",
    "    print(f\"{match.group(0)} at index: {match.start()}\")"
   ]
  },
  {
   "cell_type": "markdown",
   "metadata": {},
   "source": [
    "<h2>groups - find sub matches </h2>"
   ]
  },
  {
   "cell_type": "code",
   "execution_count": 11,
   "metadata": {},
   "outputs": [
    {
     "name": "stdout",
     "output_type": "stream",
     "text": [
      "Groups:  ('2020', '09', '20')\n",
      "Group 1 2020 at index 12\n",
      "Group 2 09 at index 16\n",
      "Group 3 20 at index 18\n"
     ]
    }
   ],
   "source": [
    "pattern = r\"(\\d{4})(\\d{2})(\\d{2})\"\n",
    "\n",
    "text = \"Start Date: 20200920\"\n",
    "\n",
    "match = re.search(pattern, text)\n",
    "\n",
    "if match:\n",
    "    print(\"Groups: \", match.groups())\n",
    "else:\n",
    "    print(\"No match found.\")\n",
    "\n",
    "if match:\n",
    "    for idx, val in enumerate(match.groups()):\n",
    "        print(\"Group\", idx+1, val, 'at index', match.start(idx+1))"
   ]
  },
  {
   "cell_type": "markdown",
   "metadata": {},
   "source": [
    "<h3>named groups</h3>"
   ]
  },
  {
   "cell_type": "code",
   "execution_count": 12,
   "metadata": {},
   "outputs": [
    {
     "name": "stdout",
     "output_type": "stream",
     "text": [
      "Groups:  {'year': '2020', 'month': '09', 'date': '20'}\n"
     ]
    }
   ],
   "source": [
    "pattern = r\"(?P<year>\\d{4})(?P<month>\\d{2})(?P<date>\\d{2})\"\n",
    "\n",
    "text = \"Start Date: 20200920\"\n",
    "\n",
    "match = re.search(pattern, text)\n",
    "\n",
    "if match:\n",
    "    print(\"Groups: \", match.groupdict())\n",
    "\n",
    "else:\n",
    "    print(\"No match found.\")\n",
    "\n",
    "# if match:\n",
    "#     for idx, val in enumerate(match.groups()):\n",
    "#         print(\"Group\", idx+1, val, 'at index', match.start(idx+1))"
   ]
  },
  {
   "cell_type": "markdown",
   "metadata": {},
   "source": [
    "<h3>access by group name</h3>"
   ]
  },
  {
   "cell_type": "code",
   "execution_count": null,
   "metadata": {},
   "outputs": [],
   "source": []
  },
  {
   "cell_type": "markdown",
   "metadata": {},
   "source": [
    "<h2>re.sub - find and replace</h2>"
   ]
  },
  {
   "cell_type": "markdown",
   "metadata": {},
   "source": [
    "<h3>two patterns: one to find the text and another pattern with replacement text</h3>"
   ]
  },
  {
   "cell_type": "code",
   "execution_count": null,
   "metadata": {},
   "outputs": [],
   "source": []
  },
  {
   "cell_type": "markdown",
   "metadata": {},
   "source": [
    "<h3>custom function to generate replacement text</h3>"
   ]
  },
  {
   "cell_type": "code",
   "execution_count": null,
   "metadata": {},
   "outputs": [],
   "source": []
  },
  {
   "cell_type": "markdown",
   "metadata": {},
   "source": [
    "<h2>re.split - split text based on specified pattern</h2>"
   ]
  },
  {
   "cell_type": "code",
   "execution_count": null,
   "metadata": {},
   "outputs": [],
   "source": []
  }
 ],
 "metadata": {
  "kernelspec": {
   "display_name": "Python 3",
   "language": "python",
   "name": "python3"
  },
  "language_info": {
   "codemirror_mode": {
    "name": "ipython",
    "version": 3
   },
   "file_extension": ".py",
   "mimetype": "text/x-python",
   "name": "python",
   "nbconvert_exporter": "python",
   "pygments_lexer": "ipython3",
   "version": "3.9.7"
  }
 },
 "nbformat": 4,
 "nbformat_minor": 1
}
